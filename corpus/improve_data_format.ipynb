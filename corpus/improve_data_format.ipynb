{
 "cells": [
  {
   "cell_type": "code",
   "execution_count": 1,
   "metadata": {
    "collapsed": true
   },
   "outputs": [],
   "source": [
    "import pandas as pd\n",
    "import csv\n",
    "from pathlib import Path"
   ]
  },
  {
   "cell_type": "markdown",
   "metadata": {},
   "source": [
    "# Missing rows when loading data with pandas"
   ]
  },
  {
   "cell_type": "code",
   "execution_count": 2,
   "metadata": {
    "collapsed": true
   },
   "outputs": [],
   "source": [
    "raw_pd = pd.read_csv(\"raw.tsv\", sep=\"\\t\", index_col=0)"
   ]
  },
  {
   "cell_type": "code",
   "execution_count": 3,
   "metadata": {
    "collapsed": false
   },
   "outputs": [
    {
     "name": "stdout",
     "output_type": "stream",
     "text": [
      "(9512, 1)\n"
     ]
    },
    {
     "data": {
      "text/html": [
       "<div>\n",
       "<style>\n",
       "    .dataframe thead tr:only-child th {\n",
       "        text-align: right;\n",
       "    }\n",
       "\n",
       "    .dataframe thead th {\n",
       "        text-align: left;\n",
       "    }\n",
       "\n",
       "    .dataframe tbody tr th {\n",
       "        vertical-align: top;\n",
       "    }\n",
       "</style>\n",
       "<table border=\"1\" class=\"dataframe\">\n",
       "  <thead>\n",
       "    <tr style=\"text-align: right;\">\n",
       "      <th></th>\n",
       "      <th>sentence</th>\n",
       "    </tr>\n",
       "    <tr>\n",
       "      <th>id</th>\n",
       "      <th></th>\n",
       "    </tr>\n",
       "  </thead>\n",
       "  <tbody>\n",
       "    <tr>\n",
       "      <th>Acephalous-Cant-believe_4_47</th>\n",
       "      <td>I can't believe I wrote all that last year.</td>\n",
       "    </tr>\n",
       "    <tr>\n",
       "      <th>Acephalous-Cant-believe_83_354</th>\n",
       "      <td>Because I've been grading all damn day and am ...</td>\n",
       "    </tr>\n",
       "    <tr>\n",
       "      <th>Acephalous-Cant-believe_355_499</th>\n",
       "      <td>However, when I started looking through my arc...</td>\n",
       "    </tr>\n",
       "    <tr>\n",
       "      <th>Acephalous-Cant-believe_500_515</th>\n",
       "      <td>What do I mean?</td>\n",
       "    </tr>\n",
       "    <tr>\n",
       "      <th>Acephalous-Cant-believe_517_626</th>\n",
       "      <td>The posts I consider foundational to my curren...</td>\n",
       "    </tr>\n",
       "  </tbody>\n",
       "</table>\n",
       "</div>"
      ],
      "text/plain": [
       "                                                                          sentence\n",
       "id                                                                                \n",
       "Acephalous-Cant-believe_4_47           I can't believe I wrote all that last year.\n",
       "Acephalous-Cant-believe_83_354   Because I've been grading all damn day and am ...\n",
       "Acephalous-Cant-believe_355_499  However, when I started looking through my arc...\n",
       "Acephalous-Cant-believe_500_515                                    What do I mean?\n",
       "Acephalous-Cant-believe_517_626  The posts I consider foundational to my curren..."
      ]
     },
     "execution_count": 3,
     "metadata": {},
     "output_type": "execute_result"
    }
   ],
   "source": [
    "print(raw_pd.shape)\n",
    "raw_pd.head()"
   ]
  },
  {
   "cell_type": "markdown",
   "metadata": {},
   "source": [
    "### Compare against loading data with loop"
   ]
  },
  {
   "cell_type": "code",
   "execution_count": 4,
   "metadata": {
    "collapsed": false
   },
   "outputs": [],
   "source": [
    "raw_loop = pd.DataFrame(columns=[\"text\"])\n",
    "with open(\"raw.tsv\", \"r\") as f:\n",
    "    for line in f:\n",
    "        i, text  = line.split(\"\\t\")\n",
    "        raw_loop.loc[i] = text.strip()\n",
    "raw_loop.index.rename(\"id\", inplace=True)"
   ]
  },
  {
   "cell_type": "code",
   "execution_count": 5,
   "metadata": {
    "collapsed": false
   },
   "outputs": [
    {
     "name": "stdout",
     "output_type": "stream",
     "text": [
      "(10549, 1)\n"
     ]
    },
    {
     "data": {
      "text/html": [
       "<div>\n",
       "<style>\n",
       "    .dataframe thead tr:only-child th {\n",
       "        text-align: right;\n",
       "    }\n",
       "\n",
       "    .dataframe thead th {\n",
       "        text-align: left;\n",
       "    }\n",
       "\n",
       "    .dataframe tbody tr th {\n",
       "        vertical-align: top;\n",
       "    }\n",
       "</style>\n",
       "<table border=\"1\" class=\"dataframe\">\n",
       "  <thead>\n",
       "    <tr style=\"text-align: right;\">\n",
       "      <th></th>\n",
       "      <th>text</th>\n",
       "    </tr>\n",
       "    <tr>\n",
       "      <th>id</th>\n",
       "      <th></th>\n",
       "    </tr>\n",
       "  </thead>\n",
       "  <tbody>\n",
       "    <tr>\n",
       "      <th>id</th>\n",
       "      <td>sentence</td>\n",
       "    </tr>\n",
       "    <tr>\n",
       "      <th>Acephalous-Cant-believe_4_47</th>\n",
       "      <td>I can't believe I wrote all that last year.</td>\n",
       "    </tr>\n",
       "    <tr>\n",
       "      <th>Acephalous-Cant-believe_83_354</th>\n",
       "      <td>Because I've been grading all damn day and am ...</td>\n",
       "    </tr>\n",
       "    <tr>\n",
       "      <th>Acephalous-Cant-believe_355_499</th>\n",
       "      <td>However, when I started looking through my arc...</td>\n",
       "    </tr>\n",
       "    <tr>\n",
       "      <th>Acephalous-Cant-believe_500_515</th>\n",
       "      <td>What do I mean?</td>\n",
       "    </tr>\n",
       "  </tbody>\n",
       "</table>\n",
       "</div>"
      ],
      "text/plain": [
       "                                                                              text\n",
       "id                                                                                \n",
       "id                                                                        sentence\n",
       "Acephalous-Cant-believe_4_47           I can't believe I wrote all that last year.\n",
       "Acephalous-Cant-believe_83_354   Because I've been grading all damn day and am ...\n",
       "Acephalous-Cant-believe_355_499  However, when I started looking through my arc...\n",
       "Acephalous-Cant-believe_500_515                                    What do I mean?"
      ]
     },
     "execution_count": 5,
     "metadata": {},
     "output_type": "execute_result"
    }
   ],
   "source": [
    "print(raw_loop.shape)\n",
    "raw_loop.head()"
   ]
  },
  {
   "cell_type": "markdown",
   "metadata": {},
   "source": [
    "# Identify missing rows"
   ]
  },
  {
   "cell_type": "code",
   "execution_count": 6,
   "metadata": {
    "collapsed": false
   },
   "outputs": [
    {
     "name": "stdout",
     "output_type": "stream",
     "text": [
      "1037\n"
     ]
    },
    {
     "data": {
      "text/plain": [
       "['guidedogs1_2405_2449',\n",
       " 'IFAW1_4515_4571',\n",
       " 'defenders5_31_47',\n",
       " 'wsj_0187_377_532',\n",
       " 'NWF1_4379_4549',\n",
       " 'AMC2_1323_1483',\n",
       " 'marine1_36_48',\n",
       " 'captured_moments_5506_5538',\n",
       " 'NWF1_2524_2601',\n",
       " 'wildelifewatch1_1608_1773']"
      ]
     },
     "execution_count": 6,
     "metadata": {},
     "output_type": "execute_result"
    }
   ],
   "source": [
    "missing  = list(set(raw_loop.index) - set(raw_pd.index))\n",
    "print(len(missing))\n",
    "missing[:10]"
   ]
  },
  {
   "cell_type": "markdown",
   "metadata": {},
   "source": [
    "Manual inspection showed that there is a problem with missing quotes for escaping."
   ]
  },
  {
   "cell_type": "markdown",
   "metadata": {},
   "source": [
    "# Reformat raw data"
   ]
  },
  {
   "cell_type": "code",
   "execution_count": 7,
   "metadata": {
    "collapsed": false
   },
   "outputs": [],
   "source": [
    "raw_loop.index.rename(\"id\", inplace=True)\n",
    "raw_loop.drop(\"id\", axis=0, inplace=True)"
   ]
  },
  {
   "cell_type": "code",
   "execution_count": 8,
   "metadata": {
    "collapsed": true
   },
   "outputs": [],
   "source": [
    "raw_loop.to_csv(\"raw_refined.csv\", quoting=csv.QUOTE_ALL)"
   ]
  },
  {
   "cell_type": "markdown",
   "metadata": {},
   "source": [
    "# Try if new data format is easy to load"
   ]
  },
  {
   "cell_type": "code",
   "execution_count": 9,
   "metadata": {
    "collapsed": false
   },
   "outputs": [
    {
     "name": "stdout",
     "output_type": "stream",
     "text": [
      "(10548, 1)\n"
     ]
    },
    {
     "data": {
      "text/html": [
       "<div>\n",
       "<style>\n",
       "    .dataframe thead tr:only-child th {\n",
       "        text-align: right;\n",
       "    }\n",
       "\n",
       "    .dataframe thead th {\n",
       "        text-align: left;\n",
       "    }\n",
       "\n",
       "    .dataframe tbody tr th {\n",
       "        vertical-align: top;\n",
       "    }\n",
       "</style>\n",
       "<table border=\"1\" class=\"dataframe\">\n",
       "  <thead>\n",
       "    <tr style=\"text-align: right;\">\n",
       "      <th></th>\n",
       "      <th>text</th>\n",
       "    </tr>\n",
       "    <tr>\n",
       "      <th>id</th>\n",
       "      <th></th>\n",
       "    </tr>\n",
       "  </thead>\n",
       "  <tbody>\n",
       "    <tr>\n",
       "      <th>Acephalous-Cant-believe_4_47</th>\n",
       "      <td>I can't believe I wrote all that last year.</td>\n",
       "    </tr>\n",
       "    <tr>\n",
       "      <th>Acephalous-Cant-believe_83_354</th>\n",
       "      <td>Because I've been grading all damn day and am ...</td>\n",
       "    </tr>\n",
       "    <tr>\n",
       "      <th>Acephalous-Cant-believe_355_499</th>\n",
       "      <td>However, when I started looking through my arc...</td>\n",
       "    </tr>\n",
       "    <tr>\n",
       "      <th>Acephalous-Cant-believe_500_515</th>\n",
       "      <td>What do I mean?</td>\n",
       "    </tr>\n",
       "    <tr>\n",
       "      <th>Acephalous-Cant-believe_517_626</th>\n",
       "      <td>The posts I consider foundational to my curren...</td>\n",
       "    </tr>\n",
       "  </tbody>\n",
       "</table>\n",
       "</div>"
      ],
      "text/plain": [
       "                                                                              text\n",
       "id                                                                                \n",
       "Acephalous-Cant-believe_4_47           I can't believe I wrote all that last year.\n",
       "Acephalous-Cant-believe_83_354   Because I've been grading all damn day and am ...\n",
       "Acephalous-Cant-believe_355_499  However, when I started looking through my arc...\n",
       "Acephalous-Cant-believe_500_515                                    What do I mean?\n",
       "Acephalous-Cant-believe_517_626  The posts I consider foundational to my curren..."
      ]
     },
     "execution_count": 9,
     "metadata": {},
     "output_type": "execute_result"
    }
   ],
   "source": [
    "raw = pd.read_csv(\"raw_refined.csv\", index_col=0)\n",
    "print(raw.shape)\n",
    "raw.head()"
   ]
  },
  {
   "cell_type": "markdown",
   "metadata": {},
   "source": [
    "# Refining reader ratings"
   ]
  },
  {
   "cell_type": "code",
   "execution_count": 10,
   "metadata": {
    "collapsed": false
   },
   "outputs": [
    {
     "data": {
      "text/html": [
       "<div>\n",
       "<style>\n",
       "    .dataframe thead tr:only-child th {\n",
       "        text-align: right;\n",
       "    }\n",
       "\n",
       "    .dataframe thead th {\n",
       "        text-align: left;\n",
       "    }\n",
       "\n",
       "    .dataframe tbody tr th {\n",
       "        vertical-align: top;\n",
       "    }\n",
       "</style>\n",
       "<table border=\"1\" class=\"dataframe\">\n",
       "  <thead>\n",
       "    <tr style=\"text-align: right;\">\n",
       "      <th></th>\n",
       "      <th>Arousal</th>\n",
       "      <th>Dominance</th>\n",
       "      <th>Valence</th>\n",
       "      <th>sd.Arousal</th>\n",
       "      <th>sd.Dominance</th>\n",
       "      <th>sd.Valence</th>\n",
       "      <th>freq</th>\n",
       "    </tr>\n",
       "    <tr>\n",
       "      <th>id</th>\n",
       "      <th></th>\n",
       "      <th></th>\n",
       "      <th></th>\n",
       "      <th></th>\n",
       "      <th></th>\n",
       "      <th></th>\n",
       "      <th></th>\n",
       "    </tr>\n",
       "  </thead>\n",
       "  <tbody>\n",
       "    <tr>\n",
       "      <th>110CYL068_1036_1079</th>\n",
       "      <td>3.200000</td>\n",
       "      <td>3.000000</td>\n",
       "      <td>3.0</td>\n",
       "      <td>0.400000</td>\n",
       "      <td>0.000000</td>\n",
       "      <td>0.000000</td>\n",
       "      <td>5</td>\n",
       "    </tr>\n",
       "    <tr>\n",
       "      <th>110CYL068_1079_1110</th>\n",
       "      <td>3.000000</td>\n",
       "      <td>2.600000</td>\n",
       "      <td>2.6</td>\n",
       "      <td>0.632456</td>\n",
       "      <td>0.489898</td>\n",
       "      <td>0.489898</td>\n",
       "      <td>5</td>\n",
       "    </tr>\n",
       "    <tr>\n",
       "      <th>110CYL068_1110_1127</th>\n",
       "      <td>2.333333</td>\n",
       "      <td>2.333333</td>\n",
       "      <td>2.0</td>\n",
       "      <td>0.471405</td>\n",
       "      <td>0.471405</td>\n",
       "      <td>1.414214</td>\n",
       "      <td>3</td>\n",
       "    </tr>\n",
       "    <tr>\n",
       "      <th>110CYL068_1127_1130</th>\n",
       "      <td>3.000000</td>\n",
       "      <td>3.000000</td>\n",
       "      <td>3.0</td>\n",
       "      <td>0.000000</td>\n",
       "      <td>0.000000</td>\n",
       "      <td>0.000000</td>\n",
       "      <td>2</td>\n",
       "    </tr>\n",
       "    <tr>\n",
       "      <th>110CYL068_1137_1188</th>\n",
       "      <td>3.000000</td>\n",
       "      <td>3.400000</td>\n",
       "      <td>3.6</td>\n",
       "      <td>0.632456</td>\n",
       "      <td>0.489898</td>\n",
       "      <td>0.800000</td>\n",
       "      <td>5</td>\n",
       "    </tr>\n",
       "  </tbody>\n",
       "</table>\n",
       "</div>"
      ],
      "text/plain": [
       "                      Arousal  Dominance  Valence  sd.Arousal  sd.Dominance  \\\n",
       "id                                                                            \n",
       "110CYL068_1036_1079  3.200000   3.000000      3.0    0.400000      0.000000   \n",
       "110CYL068_1079_1110  3.000000   2.600000      2.6    0.632456      0.489898   \n",
       "110CYL068_1110_1127  2.333333   2.333333      2.0    0.471405      0.471405   \n",
       "110CYL068_1127_1130  3.000000   3.000000      3.0    0.000000      0.000000   \n",
       "110CYL068_1137_1188  3.000000   3.400000      3.6    0.632456      0.489898   \n",
       "\n",
       "                     sd.Valence  freq  \n",
       "id                                     \n",
       "110CYL068_1036_1079    0.000000     5  \n",
       "110CYL068_1079_1110    0.489898     5  \n",
       "110CYL068_1110_1127    1.414214     3  \n",
       "110CYL068_1127_1130    0.000000     2  \n",
       "110CYL068_1137_1188    0.800000     5  "
      ]
     },
     "execution_count": 10,
     "metadata": {},
     "output_type": "execute_result"
    }
   ],
   "source": [
    "reader = pd.read_csv(\"reader.tsv\", sep=\"\\t\", index_col=0)\n",
    "reader.head()"
   ]
  },
  {
   "cell_type": "code",
   "execution_count": 11,
   "metadata": {
    "collapsed": false
   },
   "outputs": [],
   "source": [
    "reader = reader.rename(columns={\"Valence\": \"V\", \"Arousal\": \"A\", \"Dominance\": \"D\",\n",
    "                       \"sd.Arousal\": \"stdA\", \"sd.Valence\": \"stdV\", \"sd.Dominance\": \"stdD\",\n",
    "                       \"freq\": \"N\"})\n",
    "reader = reader[[\"V\", \"A\", \"D\", \"stdV\", \"stdA\", \"stdD\", \"N\"]]\n",
    "reader = reader.round(2)\n",
    "reader.to_csv(\"reader_refined.csv\", quoting=csv.QUOTE_ALL )\n"
   ]
  },
  {
   "cell_type": "code",
   "execution_count": 12,
   "metadata": {
    "collapsed": true
   },
   "outputs": [],
   "source": [
    "# Test if we can retrieve it easily\n",
    "reader = pd.read_csv(\"reader_refined.csv\", index_col=0)"
   ]
  },
  {
   "cell_type": "code",
   "execution_count": 13,
   "metadata": {
    "collapsed": false
   },
   "outputs": [
    {
     "name": "stdout",
     "output_type": "stream",
     "text": [
      "(10325, 7)\n"
     ]
    },
    {
     "data": {
      "text/html": [
       "<div>\n",
       "<style>\n",
       "    .dataframe thead tr:only-child th {\n",
       "        text-align: right;\n",
       "    }\n",
       "\n",
       "    .dataframe thead th {\n",
       "        text-align: left;\n",
       "    }\n",
       "\n",
       "    .dataframe tbody tr th {\n",
       "        vertical-align: top;\n",
       "    }\n",
       "</style>\n",
       "<table border=\"1\" class=\"dataframe\">\n",
       "  <thead>\n",
       "    <tr style=\"text-align: right;\">\n",
       "      <th></th>\n",
       "      <th>V</th>\n",
       "      <th>A</th>\n",
       "      <th>D</th>\n",
       "      <th>stdV</th>\n",
       "      <th>stdA</th>\n",
       "      <th>stdD</th>\n",
       "      <th>N</th>\n",
       "    </tr>\n",
       "    <tr>\n",
       "      <th>id</th>\n",
       "      <th></th>\n",
       "      <th></th>\n",
       "      <th></th>\n",
       "      <th></th>\n",
       "      <th></th>\n",
       "      <th></th>\n",
       "      <th></th>\n",
       "    </tr>\n",
       "  </thead>\n",
       "  <tbody>\n",
       "    <tr>\n",
       "      <th>110CYL068_1036_1079</th>\n",
       "      <td>3.0</td>\n",
       "      <td>3.20</td>\n",
       "      <td>3.00</td>\n",
       "      <td>0.00</td>\n",
       "      <td>0.40</td>\n",
       "      <td>0.00</td>\n",
       "      <td>5</td>\n",
       "    </tr>\n",
       "    <tr>\n",
       "      <th>110CYL068_1079_1110</th>\n",
       "      <td>2.6</td>\n",
       "      <td>3.00</td>\n",
       "      <td>2.60</td>\n",
       "      <td>0.49</td>\n",
       "      <td>0.63</td>\n",
       "      <td>0.49</td>\n",
       "      <td>5</td>\n",
       "    </tr>\n",
       "    <tr>\n",
       "      <th>110CYL068_1110_1127</th>\n",
       "      <td>2.0</td>\n",
       "      <td>2.33</td>\n",
       "      <td>2.33</td>\n",
       "      <td>1.41</td>\n",
       "      <td>0.47</td>\n",
       "      <td>0.47</td>\n",
       "      <td>3</td>\n",
       "    </tr>\n",
       "    <tr>\n",
       "      <th>110CYL068_1127_1130</th>\n",
       "      <td>3.0</td>\n",
       "      <td>3.00</td>\n",
       "      <td>3.00</td>\n",
       "      <td>0.00</td>\n",
       "      <td>0.00</td>\n",
       "      <td>0.00</td>\n",
       "      <td>2</td>\n",
       "    </tr>\n",
       "    <tr>\n",
       "      <th>110CYL068_1137_1188</th>\n",
       "      <td>3.6</td>\n",
       "      <td>3.00</td>\n",
       "      <td>3.40</td>\n",
       "      <td>0.80</td>\n",
       "      <td>0.63</td>\n",
       "      <td>0.49</td>\n",
       "      <td>5</td>\n",
       "    </tr>\n",
       "  </tbody>\n",
       "</table>\n",
       "</div>"
      ],
      "text/plain": [
       "                       V     A     D  stdV  stdA  stdD  N\n",
       "id                                                       \n",
       "110CYL068_1036_1079  3.0  3.20  3.00  0.00  0.40  0.00  5\n",
       "110CYL068_1079_1110  2.6  3.00  2.60  0.49  0.63  0.49  5\n",
       "110CYL068_1110_1127  2.0  2.33  2.33  1.41  0.47  0.47  3\n",
       "110CYL068_1127_1130  3.0  3.00  3.00  0.00  0.00  0.00  2\n",
       "110CYL068_1137_1188  3.6  3.00  3.40  0.80  0.63  0.49  5"
      ]
     },
     "execution_count": 13,
     "metadata": {},
     "output_type": "execute_result"
    }
   ],
   "source": [
    "print(reader.shape)\n",
    "reader.head()"
   ]
  },
  {
   "cell_type": "markdown",
   "metadata": {},
   "source": [
    "# Refining writer ratings"
   ]
  },
  {
   "cell_type": "code",
   "execution_count": 14,
   "metadata": {
    "collapsed": false
   },
   "outputs": [],
   "source": [
    "writer = pd.read_csv(\"writer.tsv\", sep=\"\\t\", index_col=0)"
   ]
  },
  {
   "cell_type": "code",
   "execution_count": 15,
   "metadata": {
    "collapsed": false
   },
   "outputs": [
    {
     "name": "stdout",
     "output_type": "stream",
     "text": [
      "(10279, 7)\n"
     ]
    },
    {
     "data": {
      "text/html": [
       "<div>\n",
       "<style>\n",
       "    .dataframe thead tr:only-child th {\n",
       "        text-align: right;\n",
       "    }\n",
       "\n",
       "    .dataframe thead th {\n",
       "        text-align: left;\n",
       "    }\n",
       "\n",
       "    .dataframe tbody tr th {\n",
       "        vertical-align: top;\n",
       "    }\n",
       "</style>\n",
       "<table border=\"1\" class=\"dataframe\">\n",
       "  <thead>\n",
       "    <tr style=\"text-align: right;\">\n",
       "      <th></th>\n",
       "      <th>Arousal</th>\n",
       "      <th>Dominance</th>\n",
       "      <th>Valence</th>\n",
       "      <th>sd.Arousal</th>\n",
       "      <th>sd.Dominance</th>\n",
       "      <th>sd.Valence</th>\n",
       "      <th>freq</th>\n",
       "    </tr>\n",
       "    <tr>\n",
       "      <th>id</th>\n",
       "      <th></th>\n",
       "      <th></th>\n",
       "      <th></th>\n",
       "      <th></th>\n",
       "      <th></th>\n",
       "      <th></th>\n",
       "      <th></th>\n",
       "    </tr>\n",
       "  </thead>\n",
       "  <tbody>\n",
       "    <tr>\n",
       "      <th>110CYL068_1036_1079</th>\n",
       "      <td>2.8</td>\n",
       "      <td>3.4</td>\n",
       "      <td>3.00</td>\n",
       "      <td>0.979796</td>\n",
       "      <td>0.489898</td>\n",
       "      <td>0.000000</td>\n",
       "      <td>5</td>\n",
       "    </tr>\n",
       "    <tr>\n",
       "      <th>110CYL068_1079_1110</th>\n",
       "      <td>3.2</td>\n",
       "      <td>3.0</td>\n",
       "      <td>3.00</td>\n",
       "      <td>0.400000</td>\n",
       "      <td>0.000000</td>\n",
       "      <td>0.000000</td>\n",
       "      <td>5</td>\n",
       "    </tr>\n",
       "    <tr>\n",
       "      <th>110CYL068_1127_1130</th>\n",
       "      <td>3.0</td>\n",
       "      <td>3.0</td>\n",
       "      <td>3.00</td>\n",
       "      <td>0.000000</td>\n",
       "      <td>0.000000</td>\n",
       "      <td>0.000000</td>\n",
       "      <td>5</td>\n",
       "    </tr>\n",
       "    <tr>\n",
       "      <th>110CYL068_1137_1188</th>\n",
       "      <td>3.0</td>\n",
       "      <td>3.0</td>\n",
       "      <td>3.25</td>\n",
       "      <td>0.707107</td>\n",
       "      <td>0.000000</td>\n",
       "      <td>0.433013</td>\n",
       "      <td>4</td>\n",
       "    </tr>\n",
       "    <tr>\n",
       "      <th>110CYL068_1189_1328</th>\n",
       "      <td>3.4</td>\n",
       "      <td>3.2</td>\n",
       "      <td>3.40</td>\n",
       "      <td>0.489898</td>\n",
       "      <td>0.400000</td>\n",
       "      <td>0.489898</td>\n",
       "      <td>5</td>\n",
       "    </tr>\n",
       "  </tbody>\n",
       "</table>\n",
       "</div>"
      ],
      "text/plain": [
       "                     Arousal  Dominance  Valence  sd.Arousal  sd.Dominance  \\\n",
       "id                                                                           \n",
       "110CYL068_1036_1079      2.8        3.4     3.00    0.979796      0.489898   \n",
       "110CYL068_1079_1110      3.2        3.0     3.00    0.400000      0.000000   \n",
       "110CYL068_1127_1130      3.0        3.0     3.00    0.000000      0.000000   \n",
       "110CYL068_1137_1188      3.0        3.0     3.25    0.707107      0.000000   \n",
       "110CYL068_1189_1328      3.4        3.2     3.40    0.489898      0.400000   \n",
       "\n",
       "                     sd.Valence  freq  \n",
       "id                                     \n",
       "110CYL068_1036_1079    0.000000     5  \n",
       "110CYL068_1079_1110    0.000000     5  \n",
       "110CYL068_1127_1130    0.000000     5  \n",
       "110CYL068_1137_1188    0.433013     4  \n",
       "110CYL068_1189_1328    0.489898     5  "
      ]
     },
     "execution_count": 15,
     "metadata": {},
     "output_type": "execute_result"
    }
   ],
   "source": [
    "print(writer.shape)\n",
    "writer.head()"
   ]
  },
  {
   "cell_type": "code",
   "execution_count": 16,
   "metadata": {
    "collapsed": true
   },
   "outputs": [],
   "source": [
    "writer = writer.rename(columns={\"Valence\": \"V\", \"Arousal\": \"A\", \"Dominance\": \"D\",\n",
    "                       \"sd.Arousal\": \"stdA\", \"sd.Valence\": \"stdV\", \"sd.Dominance\": \"stdD\",\n",
    "                       \"freq\": \"N\"})\n",
    "writer = writer[[\"V\", \"A\", \"D\", \"stdV\", \"stdA\", \"stdD\", \"N\"]]\n",
    "writer = writer.round(2)\n",
    "writer.to_csv(\"writer_refined.csv\", quoting=csv.QUOTE_ALL )"
   ]
  },
  {
   "cell_type": "code",
   "execution_count": 17,
   "metadata": {
    "collapsed": true
   },
   "outputs": [],
   "source": [
    "# Test if we can retrieve it easily\n",
    "writer = pd.read_csv(\"writer_refined.csv\", index_col=0)"
   ]
  },
  {
   "cell_type": "code",
   "execution_count": 18,
   "metadata": {
    "collapsed": false
   },
   "outputs": [
    {
     "name": "stdout",
     "output_type": "stream",
     "text": [
      "(10279, 7)\n"
     ]
    },
    {
     "data": {
      "text/html": [
       "<div>\n",
       "<style>\n",
       "    .dataframe thead tr:only-child th {\n",
       "        text-align: right;\n",
       "    }\n",
       "\n",
       "    .dataframe thead th {\n",
       "        text-align: left;\n",
       "    }\n",
       "\n",
       "    .dataframe tbody tr th {\n",
       "        vertical-align: top;\n",
       "    }\n",
       "</style>\n",
       "<table border=\"1\" class=\"dataframe\">\n",
       "  <thead>\n",
       "    <tr style=\"text-align: right;\">\n",
       "      <th></th>\n",
       "      <th>V</th>\n",
       "      <th>A</th>\n",
       "      <th>D</th>\n",
       "      <th>stdV</th>\n",
       "      <th>stdA</th>\n",
       "      <th>stdD</th>\n",
       "      <th>N</th>\n",
       "    </tr>\n",
       "    <tr>\n",
       "      <th>id</th>\n",
       "      <th></th>\n",
       "      <th></th>\n",
       "      <th></th>\n",
       "      <th></th>\n",
       "      <th></th>\n",
       "      <th></th>\n",
       "      <th></th>\n",
       "    </tr>\n",
       "  </thead>\n",
       "  <tbody>\n",
       "    <tr>\n",
       "      <th>110CYL068_1036_1079</th>\n",
       "      <td>3.00</td>\n",
       "      <td>2.8</td>\n",
       "      <td>3.4</td>\n",
       "      <td>0.00</td>\n",
       "      <td>0.98</td>\n",
       "      <td>0.49</td>\n",
       "      <td>5</td>\n",
       "    </tr>\n",
       "    <tr>\n",
       "      <th>110CYL068_1079_1110</th>\n",
       "      <td>3.00</td>\n",
       "      <td>3.2</td>\n",
       "      <td>3.0</td>\n",
       "      <td>0.00</td>\n",
       "      <td>0.40</td>\n",
       "      <td>0.00</td>\n",
       "      <td>5</td>\n",
       "    </tr>\n",
       "    <tr>\n",
       "      <th>110CYL068_1127_1130</th>\n",
       "      <td>3.00</td>\n",
       "      <td>3.0</td>\n",
       "      <td>3.0</td>\n",
       "      <td>0.00</td>\n",
       "      <td>0.00</td>\n",
       "      <td>0.00</td>\n",
       "      <td>5</td>\n",
       "    </tr>\n",
       "    <tr>\n",
       "      <th>110CYL068_1137_1188</th>\n",
       "      <td>3.25</td>\n",
       "      <td>3.0</td>\n",
       "      <td>3.0</td>\n",
       "      <td>0.43</td>\n",
       "      <td>0.71</td>\n",
       "      <td>0.00</td>\n",
       "      <td>4</td>\n",
       "    </tr>\n",
       "    <tr>\n",
       "      <th>110CYL068_1189_1328</th>\n",
       "      <td>3.40</td>\n",
       "      <td>3.4</td>\n",
       "      <td>3.2</td>\n",
       "      <td>0.49</td>\n",
       "      <td>0.49</td>\n",
       "      <td>0.40</td>\n",
       "      <td>5</td>\n",
       "    </tr>\n",
       "  </tbody>\n",
       "</table>\n",
       "</div>"
      ],
      "text/plain": [
       "                        V    A    D  stdV  stdA  stdD  N\n",
       "id                                                      \n",
       "110CYL068_1036_1079  3.00  2.8  3.4  0.00  0.98  0.49  5\n",
       "110CYL068_1079_1110  3.00  3.2  3.0  0.00  0.40  0.00  5\n",
       "110CYL068_1127_1130  3.00  3.0  3.0  0.00  0.00  0.00  5\n",
       "110CYL068_1137_1188  3.25  3.0  3.0  0.43  0.71  0.00  4\n",
       "110CYL068_1189_1328  3.40  3.4  3.2  0.49  0.49  0.40  5"
      ]
     },
     "execution_count": 18,
     "metadata": {},
     "output_type": "execute_result"
    }
   ],
   "source": [
    "print(writer.shape)\n",
    "writer.head()"
   ]
  },
  {
   "cell_type": "markdown",
   "metadata": {},
   "source": [
    "# Creating combined table (average of reader and writer)"
   ]
  },
  {
   "cell_type": "code",
   "execution_count": 19,
   "metadata": {
    "collapsed": true
   },
   "outputs": [],
   "source": [
    "raw = pd.read_csv(\"raw_refined.csv\", index_col=0)\n",
    "writer = pd.read_csv(\"writer_refined.csv\", index_col=0)\n",
    "reader = pd.read_csv(\"reader_refined.csv\", index_col=0)"
   ]
  },
  {
   "cell_type": "code",
   "execution_count": 20,
   "metadata": {
    "collapsed": false
   },
   "outputs": [
    {
     "name": "stdout",
     "output_type": "stream",
     "text": [
      "10062\n"
     ]
    }
   ],
   "source": [
    "common = sorted(list(set(writer.index).intersection(set(reader.index))))\n",
    "print(len(common))"
   ]
  },
  {
   "cell_type": "code",
   "execution_count": 21,
   "metadata": {
    "collapsed": true
   },
   "outputs": [],
   "source": [
    "combined = writer.loc[common] + reader.loc[common]\n",
    "combined[[\"V\", \"A\",\"D\"]] = combined[[\"V\", \"A\",\"D\"]]/2\n",
    "combined = combined.drop([\"stdV\", \"stdA\", \"stdD\", \"N\"], axis=1)"
   ]
  },
  {
   "cell_type": "code",
   "execution_count": 22,
   "metadata": {
    "collapsed": true
   },
   "outputs": [],
   "source": [
    "combined[\"text\"] = raw.loc[common]"
   ]
  },
  {
   "cell_type": "code",
   "execution_count": 23,
   "metadata": {
    "collapsed": false
   },
   "outputs": [
    {
     "name": "stdout",
     "output_type": "stream",
     "text": [
      "(10062, 4)\n"
     ]
    },
    {
     "data": {
      "text/html": [
       "<div>\n",
       "<style>\n",
       "    .dataframe thead tr:only-child th {\n",
       "        text-align: right;\n",
       "    }\n",
       "\n",
       "    .dataframe thead th {\n",
       "        text-align: left;\n",
       "    }\n",
       "\n",
       "    .dataframe tbody tr th {\n",
       "        vertical-align: top;\n",
       "    }\n",
       "</style>\n",
       "<table border=\"1\" class=\"dataframe\">\n",
       "  <thead>\n",
       "    <tr style=\"text-align: right;\">\n",
       "      <th></th>\n",
       "      <th>V</th>\n",
       "      <th>A</th>\n",
       "      <th>D</th>\n",
       "      <th>text</th>\n",
       "    </tr>\n",
       "    <tr>\n",
       "      <th>id</th>\n",
       "      <th></th>\n",
       "      <th></th>\n",
       "      <th></th>\n",
       "      <th></th>\n",
       "    </tr>\n",
       "  </thead>\n",
       "  <tbody>\n",
       "    <tr>\n",
       "      <th>110CYL068_1036_1079</th>\n",
       "      <td>3.000</td>\n",
       "      <td>3.000</td>\n",
       "      <td>3.200</td>\n",
       "      <td>Remember what she said in my last letter? \"</td>\n",
       "    </tr>\n",
       "    <tr>\n",
       "      <th>110CYL068_1079_1110</th>\n",
       "      <td>2.800</td>\n",
       "      <td>3.100</td>\n",
       "      <td>2.800</td>\n",
       "      <td>If I wasn't working here.</td>\n",
       "    </tr>\n",
       "    <tr>\n",
       "      <th>110CYL068_1127_1130</th>\n",
       "      <td>3.000</td>\n",
       "      <td>3.000</td>\n",
       "      <td>3.000</td>\n",
       "      <td>..\"</td>\n",
       "    </tr>\n",
       "    <tr>\n",
       "      <th>110CYL068_1137_1188</th>\n",
       "      <td>3.425</td>\n",
       "      <td>3.000</td>\n",
       "      <td>3.200</td>\n",
       "      <td>Goodwill helps people get off of public assist...</td>\n",
       "    </tr>\n",
       "    <tr>\n",
       "      <th>110CYL068_1189_1328</th>\n",
       "      <td>3.535</td>\n",
       "      <td>3.285</td>\n",
       "      <td>3.435</td>\n",
       "      <td>Sherry learned through our Future Works class ...</td>\n",
       "    </tr>\n",
       "  </tbody>\n",
       "</table>\n",
       "</div>"
      ],
      "text/plain": [
       "                         V      A      D  \\\n",
       "id                                         \n",
       "110CYL068_1036_1079  3.000  3.000  3.200   \n",
       "110CYL068_1079_1110  2.800  3.100  2.800   \n",
       "110CYL068_1127_1130  3.000  3.000  3.000   \n",
       "110CYL068_1137_1188  3.425  3.000  3.200   \n",
       "110CYL068_1189_1328  3.535  3.285  3.435   \n",
       "\n",
       "                                                                  text  \n",
       "id                                                                      \n",
       "110CYL068_1036_1079        Remember what she said in my last letter? \"  \n",
       "110CYL068_1079_1110                          If I wasn't working here.  \n",
       "110CYL068_1127_1130                                                ..\"  \n",
       "110CYL068_1137_1188  Goodwill helps people get off of public assist...  \n",
       "110CYL068_1189_1328  Sherry learned through our Future Works class ...  "
      ]
     },
     "execution_count": 23,
     "metadata": {},
     "output_type": "execute_result"
    }
   ],
   "source": [
    "print(combined.shape)\n",
    "combined.head()"
   ]
  },
  {
   "cell_type": "markdown",
   "metadata": {},
   "source": [
    "### Quick sanity check:"
   ]
  },
  {
   "cell_type": "code",
   "execution_count": 24,
   "metadata": {
    "collapsed": false
   },
   "outputs": [
    {
     "name": "stdout",
     "output_type": "stream",
     "text": [
      "Min V: \"Fuck you\"\n",
      "Max V: lol Wonderful Simply Superb!\n",
      "Min A: I was feeling calm and private that night.\n",
      "Max A: \"My God, yes, yes, yes!\"\n",
      "Min D: I shivered as I walked past the pale man’s blank eyes, wondering what they were staring at.\n",
      "Max D: “NO”\n"
     ]
    }
   ],
   "source": [
    "for d in [\"V\", \"A\", \"D\"]:\n",
    "    print(\"Min {}: {}\".format(d, combined.loc[combined[d].argmin(), \"text\"]))\n",
    "    print(\"Max {}: {}\".format(d, combined.loc[combined[d].argmax(), \"text\"]))"
   ]
  },
  {
   "cell_type": "code",
   "execution_count": null,
   "metadata": {
    "collapsed": true
   },
   "outputs": [],
   "source": []
  }
 ],
 "metadata": {
  "kernelspec": {
   "display_name": "Python 3",
   "language": "python",
   "name": "python3"
  },
  "language_info": {
   "codemirror_mode": {
    "name": "ipython",
    "version": 3
   },
   "file_extension": ".py",
   "mimetype": "text/x-python",
   "name": "python",
   "nbconvert_exporter": "python",
   "pygments_lexer": "ipython3",
   "version": "3.5.1"
  }
 },
 "nbformat": 4,
 "nbformat_minor": 0
}
